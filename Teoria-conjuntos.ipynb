{
 "cells": [
  {
   "cell_type": "markdown",
   "id": "472001dc",
   "metadata": {},
   "source": [
    "# Teoría de conjuntos"
   ]
  },
  {
   "cell_type": "markdown",
   "id": "df3d76f3",
   "metadata": {},
   "source": [
    "De acuerdo con wikipedia, la teoria de conjuntos es una rama de la lógica matemática que estudia las propiedades y relaciones de los conjuntos: colecciones abstractas de objetos, consideradas como objetos en sí mismas. Los conjuntos y sus operaciones más elementales son una herramienta básica que permite formular de cualquier otra teoría matemática."
   ]
  },
  {
   "cell_type": "markdown",
   "id": "e6058915",
   "metadata": {},
   "source": [
    "# Teoria de conjuntos con Python"
   ]
  },
  {
   "cell_type": "markdown",
   "id": "1602b3b5",
   "metadata": {},
   "source": [
    "La teoria de conjuntos es un area fundamental de las matematicas que trata sobre las propiedades y relaciones entre conjuntos,\n",
    "que son colecciones bien derfinidas de objetos. Python, como un lenguaje de progrqamación versatil, ofrece varias formas de\n",
    "trabajar con conjuntos y aplicar conceptos de teoria de conjuntos."
   ]
  },
  {
   "cell_type": "markdown",
   "id": "ef7377f7",
   "metadata": {},
   "source": [
    "## Creación de conjuntos"
   ]
  },
  {
   "cell_type": "markdown",
   "id": "d1865bd1",
   "metadata": {},
   "source": [
    "En Python, puedes crear conjunto utilizando las llaves {} o la funcion set()"
   ]
  },
  {
   "cell_type": "code",
   "execution_count": 1,
   "id": "1b314495",
   "metadata": {},
   "outputs": [],
   "source": [
    "A = {1, 2, 3, 4, 5}"
   ]
  },
  {
   "cell_type": "code",
   "execution_count": 2,
   "id": "491187a2",
   "metadata": {},
   "outputs": [],
   "source": [
    "B = {3, 4, 5, 6, 7}"
   ]
  },
  {
   "cell_type": "code",
   "execution_count": null,
   "id": "6cc32c76",
   "metadata": {},
   "outputs": [],
   "source": [
    "C = set([1, 4, 5, 7, 9])"
   ]
  },
  {
   "cell_type": "markdown",
   "id": "c4224751",
   "metadata": {},
   "source": [
    "## Listas vs conjuntos"
   ]
  },
  {
   "cell_type": "code",
   "execution_count": null,
   "id": "17dad116",
   "metadata": {},
   "outputs": [],
   "source": [
    "lista = [1, 2, 3, 4, 5, 1, 2, 3, 4, 5]"
   ]
  },
  {
   "cell_type": "code",
   "execution_count": null,
   "id": "6262badc",
   "metadata": {},
   "outputs": [],
   "source": [
    "lista"
   ]
  },
  {
   "cell_type": "code",
   "execution_count": null,
   "id": "2365ab1c",
   "metadata": {},
   "outputs": [],
   "source": [
    "conjunto = set(lista)"
   ]
  },
  {
   "cell_type": "code",
   "execution_count": null,
   "id": "18e90dee",
   "metadata": {},
   "outputs": [],
   "source": [
    "conjunto"
   ]
  },
  {
   "cell_type": "markdown",
   "id": "c1a10dd4",
   "metadata": {},
   "source": [
    "## Operaciones"
   ]
  },
  {
   "cell_type": "markdown",
   "id": "5fe4083e",
   "metadata": {},
   "source": [
    "Python proporciona operaciones y métodos para realizar operaciones básicas de conjuntos como unión, intersección, diferencia,\n",
    "y diferencia simétrica"
   ]
  },
  {
   "cell_type": "markdown",
   "id": "23aded25",
   "metadata": {},
   "source": [
    "### Unión"
   ]
  },
  {
   "cell_type": "markdown",
   "id": "18e3a033",
   "metadata": {},
   "source": [
    "La operación se denomina unión de conjuntos, y da como resultado un nuevo conjunto formado por todos los elementos que pertenecen a ambos conjuntos."
   ]
  },
  {
   "cell_type": "markdown",
   "id": "c93a571f",
   "metadata": {},
   "source": [
    "Su formula es:"
   ]
  },
  {
   "cell_type": "markdown",
   "id": "6dd0c0c9",
   "metadata": {},
   "source": [
    "$$\n",
    "    C = A \\cup B = {X:X \\in A \\quad o \\quad x \\in B}\n",
    "$$"
   ]
  },
  {
   "cell_type": "code",
   "execution_count": 3,
   "id": "cf3d59fc",
   "metadata": {},
   "outputs": [
    {
     "data": {
      "text/plain": [
       "{1, 2, 3, 4, 5, 6, 7}"
      ]
     },
     "execution_count": 3,
     "metadata": {},
     "output_type": "execute_result"
    }
   ],
   "source": [
    "A | B"
   ]
  },
  {
   "cell_type": "code",
   "execution_count": 6,
   "id": "8113a9c0",
   "metadata": {},
   "outputs": [
    {
     "data": {
      "text/plain": [
       "{1, 2, 3, 4, 5, 6, 7}"
      ]
     },
     "execution_count": 6,
     "metadata": {},
     "output_type": "execute_result"
    }
   ],
   "source": [
    "A.union(B)"
   ]
  },
  {
   "cell_type": "markdown",
   "id": "2a450a3d",
   "metadata": {},
   "source": [
    "### Insección"
   ]
  },
  {
   "cell_type": "markdown",
   "id": "945f08f9",
   "metadata": {},
   "source": [
    "Realizar la intersección de dos o más conjuntos, es definir un nuevo conjunto formado solamente por aquellos elementos que estén presentes en todos los conjuntos en cuestión. En otras palabras: sólo forman parte del nuevo conjunto, los elementos que tengan en común"
   ]
  },
  {
   "cell_type": "markdown",
   "id": "ff833353",
   "metadata": {},
   "source": [
    "$$\n",
    "A \\cap B = \\{ x : x \\in A \\text{ y } x \\in B \\}\n",
    "$$"
   ]
  },
  {
   "cell_type": "code",
   "execution_count": null,
   "id": "ece29ca2",
   "metadata": {},
   "outputs": [],
   "source": [
    "A & B"
   ]
  },
  {
   "cell_type": "code",
   "execution_count": 13,
   "id": "35675092",
   "metadata": {},
   "outputs": [
    {
     "data": {
      "text/plain": [
       "{3, 4, 5}"
      ]
     },
     "execution_count": 13,
     "metadata": {},
     "output_type": "execute_result"
    }
   ],
   "source": [
    "A.intersection(B)"
   ]
  }
 ],
 "metadata": {
  "kernelspec": {
   "display_name": "Python 3 (ipykernel)",
   "language": "python",
   "name": "python3"
  },
  "language_info": {
   "codemirror_mode": {
    "name": "ipython",
    "version": 3
   },
   "file_extension": ".py",
   "mimetype": "text/x-python",
   "name": "python",
   "nbconvert_exporter": "python",
   "pygments_lexer": "ipython3",
   "version": "3.10.9"
  }
 },
 "nbformat": 4,
 "nbformat_minor": 5
}
