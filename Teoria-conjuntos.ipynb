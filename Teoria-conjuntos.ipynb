{
 "cells": [
  {
   "cell_type": "markdown",
   "id": "472001dc",
   "metadata": {},
   "source": [
    "# Teoría de conjuntos"
   ]
  },
  {
   "cell_type": "markdown",
   "id": "df3d76f3",
   "metadata": {},
   "source": [
    "De acuerdo con wikipedia, la teoría de conjuntos es una rama de la lógica matemática que estudia las propiedades y relaciones de los conjuntos: colecciones abstractas de objetos, consideradas como objetos en sí mismas. Los conjuntos y sus operaciones más elementales son una herramienta básica que permite formular de cualquier otra teoría matemática."
   ]
  },
  {
   "cell_type": "markdown",
   "id": "e6058915",
   "metadata": {},
   "source": [
    "# Teoria de conjuntos con Python"
   ]
  },
  {
   "cell_type": "markdown",
   "id": "1602b3b5",
   "metadata": {},
   "source": [
    "La teoría de conjuntos es un área fundamental de las matemáticas que trata sobre las propiedades y relaciones entre conjuntos, que son colecciones bien definidas de objetos. Python, como un lenguaje de programación versátil, ofrece varias formas de trabajar con conjuntos y aplicar conceptos de teoría de conjuntos."
   ]
  },
  {
   "cell_type": "markdown",
   "id": "ef7377f7",
   "metadata": {},
   "source": [
    "## Creación de conjuntos"
   ]
  },
  {
   "cell_type": "markdown",
   "id": "d1865bd1",
   "metadata": {},
   "source": [
    "En Python, puedes crear conjunto utilizando las llaves {} o la función set()"
   ]
  },
  {
   "cell_type": "code",
   "execution_count": 1,
   "id": "1b314495",
   "metadata": {},
   "outputs": [],
   "source": [
    "A = {1, 2, 3, 4, 5}"
   ]
  },
  {
   "cell_type": "code",
   "execution_count": 2,
   "id": "491187a2",
   "metadata": {},
   "outputs": [],
   "source": [
    "B = {3, 4, 5, 6, 7}"
   ]
  },
  {
   "cell_type": "code",
   "execution_count": 3,
   "id": "6cc32c76",
   "metadata": {},
   "outputs": [],
   "source": [
    "C = set([1, 4, 5, 7, 9])"
   ]
  },
  {
   "cell_type": "markdown",
   "id": "c4224751",
   "metadata": {},
   "source": [
    "## Listas vs conjuntos"
   ]
  },
  {
   "cell_type": "markdown",
   "id": "99203101",
   "metadata": {},
   "source": [
    "<table>\n",
    "    <thead>\n",
    "        <tr>\n",
    "            <th colspan=\"2\"><center>Diferencias listas - conjuntos</center></th>\n",
    "        </tr>\n",
    "        <tr>\n",
    "            <th>Lista</th>\n",
    "            <th>Conjuntos</th>\n",
    "        </tr>\n",
    "    </thead>\n",
    "    <tbody>\n",
    "        <tr>\n",
    "            <th>Mantienen el orden de inserción de los elementos</th>\n",
    "            <th>No mantienen ningún orden específico</th>\n",
    "        </tr>\n",
    "        <tr>\n",
    "            <th>Puedes tener el mismo elemento varias veces en una lista.</th>\n",
    "            <th>Si intentas agregar un elemento que ya está presente en el conjunto, simplemente se ignorará y no se agregará otra vez</th>\n",
    "        </tr>\n",
    "        <tr>\n",
    "            <th>Son mutables</th>\n",
    "            <th>Son mutables en el sentido de que puedes agregar o eliminar elementos, pero no puedes modificar un elemento individual dentro del conjunto</th>\n",
    "        </tr>\n",
    "        <tr>\n",
    "            <th>Puedes acceder a los elementos de una lista utilizando índices</th>\n",
    "            <th>No se pueden acceder a los elementos de un conjunto utilizando índices, ya que los conjuntos no tienen orden</th>\n",
    "        </tr>\n",
    "    </tbody>\n",
    "</table>"
   ]
  },
  {
   "cell_type": "code",
   "execution_count": 4,
   "id": "17dad116",
   "metadata": {},
   "outputs": [],
   "source": [
    "lista = [1, 2, 3, 4, 5, 1, 2, 3, 4, 5]"
   ]
  },
  {
   "cell_type": "code",
   "execution_count": 5,
   "id": "6262badc",
   "metadata": {},
   "outputs": [
    {
     "data": {
      "text/plain": [
       "[1, 2, 3, 4, 5, 1, 2, 3, 4, 5]"
      ]
     },
     "execution_count": 5,
     "metadata": {},
     "output_type": "execute_result"
    }
   ],
   "source": [
    "lista"
   ]
  },
  {
   "cell_type": "code",
   "execution_count": 6,
   "id": "2365ab1c",
   "metadata": {},
   "outputs": [],
   "source": [
    "conjunto = set(lista)"
   ]
  },
  {
   "cell_type": "code",
   "execution_count": 7,
   "id": "18e90dee",
   "metadata": {},
   "outputs": [
    {
     "data": {
      "text/plain": [
       "{1, 2, 3, 4, 5}"
      ]
     },
     "execution_count": 7,
     "metadata": {},
     "output_type": "execute_result"
    }
   ],
   "source": [
    "conjunto"
   ]
  },
  {
   "cell_type": "markdown",
   "id": "c1a10dd4",
   "metadata": {},
   "source": [
    "## Operaciones"
   ]
  },
  {
   "cell_type": "markdown",
   "id": "5fe4083e",
   "metadata": {},
   "source": [
    "Python proporciona operaciones y métodos para realizar operaciones básicas de conjuntos como unión, intersección, diferencia,\n",
    "y diferencia simétrica"
   ]
  },
  {
   "cell_type": "markdown",
   "id": "23aded25",
   "metadata": {},
   "source": [
    "### Unión"
   ]
  },
  {
   "cell_type": "markdown",
   "id": "18e3a033",
   "metadata": {},
   "source": [
    "La operación se denomina unión de conjuntos, y da como resultado un nuevo conjunto formado por todos los elementos que pertenecen a ambos conjuntos."
   ]
  },
  {
   "cell_type": "markdown",
   "id": "c93a571f",
   "metadata": {},
   "source": [
    "Su formula es:"
   ]
  },
  {
   "cell_type": "markdown",
   "id": "6dd0c0c9",
   "metadata": {},
   "source": [
    "$$\n",
    "    C = A \\cup B = {X:X \\in A \\quad o \\quad x \\in B}\n",
    "$$"
   ]
  },
  {
   "cell_type": "code",
   "execution_count": 8,
   "id": "cf3d59fc",
   "metadata": {},
   "outputs": [
    {
     "data": {
      "text/plain": [
       "{1, 2, 3, 4, 5, 6, 7}"
      ]
     },
     "execution_count": 8,
     "metadata": {},
     "output_type": "execute_result"
    }
   ],
   "source": [
    "A | B"
   ]
  },
  {
   "cell_type": "code",
   "execution_count": 9,
   "id": "8113a9c0",
   "metadata": {},
   "outputs": [
    {
     "data": {
      "text/plain": [
       "{1, 2, 3, 4, 5, 6, 7}"
      ]
     },
     "execution_count": 9,
     "metadata": {},
     "output_type": "execute_result"
    }
   ],
   "source": [
    "A.union(B)"
   ]
  },
  {
   "cell_type": "markdown",
   "id": "2a450a3d",
   "metadata": {},
   "source": [
    "### Insección"
   ]
  },
  {
   "cell_type": "markdown",
   "id": "945f08f9",
   "metadata": {},
   "source": [
    "Realizar la intersección de dos o más conjuntos, es definir un nuevo conjunto formado solamente por aquellos elementos que estén presentes en todos los conjuntos en cuestión. En otras palabras: sólo forman parte del nuevo conjunto, los elementos que tengan en común"
   ]
  },
  {
   "cell_type": "markdown",
   "id": "f646bc8d",
   "metadata": {},
   "source": [
    "Definición formal:"
   ]
  },
  {
   "cell_type": "markdown",
   "id": "ff833353",
   "metadata": {},
   "source": [
    "$$\n",
    "A \\cap B = \\{ x : x \\in A \\text{ y } x \\in B \\}\n",
    "$$"
   ]
  },
  {
   "cell_type": "code",
   "execution_count": 10,
   "id": "ece29ca2",
   "metadata": {},
   "outputs": [
    {
     "data": {
      "text/plain": [
       "{3, 4, 5}"
      ]
     },
     "execution_count": 10,
     "metadata": {},
     "output_type": "execute_result"
    }
   ],
   "source": [
    "A & B"
   ]
  },
  {
   "cell_type": "code",
   "execution_count": 11,
   "id": "35675092",
   "metadata": {},
   "outputs": [
    {
     "data": {
      "text/plain": [
       "{3, 4, 5}"
      ]
     },
     "execution_count": 11,
     "metadata": {},
     "output_type": "execute_result"
    }
   ],
   "source": [
    "A.intersection(B)"
   ]
  },
  {
   "cell_type": "markdown",
   "id": "2fcb202f",
   "metadata": {},
   "source": [
    "### Diferencia"
   ]
  },
  {
   "cell_type": "markdown",
   "id": "b3facd21",
   "metadata": {},
   "source": [
    "Es una operación que da como resultado otro conjunto con los elementos del primer conjunto sin los elementos del segundo conjunto."
   ]
  },
  {
   "cell_type": "code",
   "execution_count": null,
   "id": "3b574817",
   "metadata": {},
   "outputs": [],
   "source": [
    "Definición formal:"
   ]
  },
  {
   "cell_type": "markdown",
   "id": "7631a3fe",
   "metadata": {},
   "source": [
    "$$\n",
    "A - B = \\{ x : x \\in A \\text{ y } x \\notin B \\}\n",
    "$$"
   ]
  },
  {
   "cell_type": "code",
   "execution_count": 12,
   "id": "1f9c42bf",
   "metadata": {},
   "outputs": [
    {
     "data": {
      "text/plain": [
       "{1, 2}"
      ]
     },
     "execution_count": 12,
     "metadata": {},
     "output_type": "execute_result"
    }
   ],
   "source": [
    "A - B"
   ]
  },
  {
   "cell_type": "code",
   "execution_count": 13,
   "id": "aaea351d",
   "metadata": {},
   "outputs": [
    {
     "data": {
      "text/plain": [
       "{1, 2}"
      ]
     },
     "execution_count": 13,
     "metadata": {},
     "output_type": "execute_result"
    }
   ],
   "source": [
    "A.difference(B)"
   ]
  },
  {
   "cell_type": "markdown",
   "id": "a986c734",
   "metadata": {},
   "source": [
    "### Diferencia Simétrica"
   ]
  },
  {
   "cell_type": "markdown",
   "id": "14ea5b79",
   "metadata": {},
   "source": [
    "La diferencia simétrica de dos conjuntos es otro conjunto donde se incluyen los elementos que pertenecen a los conjuntos iniciales, pero que no están en los dos a la vez."
   ]
  },
  {
   "cell_type": "markdown",
   "id": "e65438cd",
   "metadata": {},
   "source": [
    "Definición formal:"
   ]
  },
  {
   "cell_type": "markdown",
   "id": "dbe076b2",
   "metadata": {},
   "source": [
    "$$\n",
    "A \\triangle B = (A - B) \\cup (B - A)\n",
    "$$"
   ]
  },
  {
   "cell_type": "code",
   "execution_count": 14,
   "id": "f928b8d5",
   "metadata": {},
   "outputs": [
    {
     "data": {
      "text/plain": [
       "{2, 3, 7, 9}"
      ]
     },
     "execution_count": 14,
     "metadata": {},
     "output_type": "execute_result"
    }
   ],
   "source": [
    "A.symmetric_difference(C)"
   ]
  },
  {
   "cell_type": "code",
   "execution_count": 15,
   "id": "4e6d71b5",
   "metadata": {},
   "outputs": [
    {
     "data": {
      "text/plain": [
       "{2, 3, 7, 9}"
      ]
     },
     "execution_count": 15,
     "metadata": {},
     "output_type": "execute_result"
    }
   ],
   "source": [
    "(A | C) - (A & C)"
   ]
  },
  {
   "cell_type": "markdown",
   "id": "d8636dce",
   "metadata": {},
   "source": [
    "## Diagramas de venn"
   ]
  },
  {
   "cell_type": "markdown",
   "id": "44a5b1ca",
   "metadata": {},
   "source": [
    "El diagrama de Venn es un tipo de organizador gráfico que muestra cómo se relacionan dos o más conjuntos de elementos, puesto que, mediante círculos superpuestos, representa qué características comparten y cuáles no dos o más categorías, grupos, ideas, conceptos, teorías, entre otros."
   ]
  },
  {
   "cell_type": "code",
   "execution_count": 16,
   "id": "514b2b6e",
   "metadata": {},
   "outputs": [
    {
     "name": "stdout",
     "output_type": "stream",
     "text": [
      "Requirement already satisfied: matplotlib-venn in d:\\anaconda\\lib\\site-packages (0.11.10)\n",
      "Requirement already satisfied: matplotlib in d:\\anaconda\\lib\\site-packages (from matplotlib-venn) (3.7.1)\n",
      "Requirement already satisfied: numpy in d:\\anaconda\\lib\\site-packages (from matplotlib-venn) (1.24.3)\n",
      "Requirement already satisfied: scipy in d:\\anaconda\\lib\\site-packages (from matplotlib-venn) (1.10.1)\n",
      "Requirement already satisfied: contourpy>=1.0.1 in d:\\anaconda\\lib\\site-packages (from matplotlib->matplotlib-venn) (1.0.5)\n",
      "Requirement already satisfied: cycler>=0.10 in d:\\anaconda\\lib\\site-packages (from matplotlib->matplotlib-venn) (0.11.0)\n",
      "Requirement already satisfied: fonttools>=4.22.0 in d:\\anaconda\\lib\\site-packages (from matplotlib->matplotlib-venn) (4.25.0)\n",
      "Requirement already satisfied: kiwisolver>=1.0.1 in d:\\anaconda\\lib\\site-packages (from matplotlib->matplotlib-venn) (1.4.4)\n",
      "Requirement already satisfied: packaging>=20.0 in d:\\anaconda\\lib\\site-packages (from matplotlib->matplotlib-venn) (23.0)\n",
      "Requirement already satisfied: pillow>=6.2.0 in d:\\anaconda\\lib\\site-packages (from matplotlib->matplotlib-venn) (9.4.0)\n",
      "Requirement already satisfied: pyparsing>=2.3.1 in d:\\anaconda\\lib\\site-packages (from matplotlib->matplotlib-venn) (3.0.9)\n",
      "Requirement already satisfied: python-dateutil>=2.7 in d:\\anaconda\\lib\\site-packages (from matplotlib->matplotlib-venn) (2.8.2)\n",
      "Requirement already satisfied: six>=1.5 in d:\\anaconda\\lib\\site-packages (from python-dateutil>=2.7->matplotlib->matplotlib-venn) (1.16.0)\n",
      "Note: you may need to restart the kernel to use updated packages.\n"
     ]
    }
   ],
   "source": [
    "pip install matplotlib-venn"
   ]
  },
  {
   "cell_type": "code",
   "execution_count": 17,
   "id": "92de5715",
   "metadata": {},
   "outputs": [],
   "source": [
    "from matplotlib import pyplot as plt"
   ]
  },
  {
   "cell_type": "code",
   "execution_count": 18,
   "id": "42066358",
   "metadata": {},
   "outputs": [],
   "source": [
    "from matplotlib_venn import venn3"
   ]
  },
  {
   "cell_type": "markdown",
   "id": "ba67fb34",
   "metadata": {},
   "source": [
    "<i>Definir variables</i>"
   ]
  },
  {
   "cell_type": "code",
   "execution_count": 19,
   "id": "6b4f3668",
   "metadata": {},
   "outputs": [],
   "source": [
    "set1 = {1, 3, 4, 5, 6}\n",
    "set2 = {4, 6, 7, 8}\n",
    "set3 = {2, 5, 8, 9, 4}"
   ]
  },
  {
   "cell_type": "markdown",
   "id": "f51923af",
   "metadata": {},
   "source": [
    "<i>crear diagrama</i>"
   ]
  },
  {
   "cell_type": "code",
   "execution_count": 20,
   "id": "d43082ce",
   "metadata": {},
   "outputs": [
    {
     "data": {
      "image/png": "[encoded data removed]",
      "text/plain": [
       "<Figure size 640x480 with 1 Axes>"
      ]
     },
     "metadata": {},
     "output_type": "display_data"
    }
   ],
   "source": [
    "venn3([set1, set2, set3], ('Group1', 'Group2', 'Group3'))\n",
    "\n",
    "plt.title(\"Diagrama de Venn de tres conjuntos\")\n",
    "\n",
    "plt.show()"
   ]
  }
 ],
 "metadata": {
  "kernelspec": {
   "display_name": "Python 3 (ipykernel)",
   "language": "python",
   "name": "python3"
  },
  "language_info": {
   "codemirror_mode": {
    "name": "ipython",
    "version": 3
   },
   "file_extension": ".py",
   "mimetype": "text/x-python",
   "name": "python",
   "nbconvert_exporter": "python",
   "pygments_lexer": "ipython3",
   "version": "3.11.4"
  }
 },
 "nbformat": 4,
 "nbformat_minor": 5
}
