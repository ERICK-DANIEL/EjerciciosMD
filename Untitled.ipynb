{
 "cells": [
  {
   "cell_type": "markdown",
   "id": "eb7e9742",
   "metadata": {},
   "source": [
    "# Teoría de conjuntos"
   ]
  },
  {
   "cell_type": "markdown",
   "id": "f7cdbd5b",
   "metadata": {},
   "source": [
    "De acuerdo con wikipedia, la teoria de conjuntos es una rama de la lógica matemática que estudia las propiedades y relaciones de los conjuntos: colecciones abstractas de objetos, consideradas como objetos en sí mismas. Los conjuntos y sus operaciones más elementales son una herramienta básica que permite formular de cualquier otra teoría matemática."
   ]
  },
  {
   "cell_type": "markdown",
   "id": "a95078ef",
   "metadata": {},
   "source": [
    "# Teoria de conjuntos con Python"
   ]
  },
  {
   "cell_type": "markdown",
   "id": "53bf486f",
   "metadata": {},
   "source": [
    "La teoria de conjuntos es un area fundamental de las matematicas que trata sobre las propiedades y relaciones entre conjuntos,\n",
    "que son colecciones bien derfinidas de objetos. Python, como un lenguaje de progrqamación versatil, ofrece varias formas de\n",
    "trabajar con conjuntos y aplicar conceptos de teoria de conjuntos."
   ]
  },
  {
   "cell_type": "markdown",
   "id": "2741a7f7",
   "metadata": {},
   "source": [
    "## Creación de conjuntos"
   ]
  },
  {
   "cell_type": "markdown",
   "id": "e1fb4199",
   "metadata": {},
   "source": [
    "En Python, puedes crear conjunto utilizando las llaves {} o la funcion set()"
   ]
  },
  {
   "cell_type": "code",
   "execution_count": 1,
   "id": "a589dabe",
   "metadata": {},
   "outputs": [],
   "source": [
    "A = {1, 2, 3, 4, 5}"
   ]
  },
  {
   "cell_type": "code",
   "execution_count": 2,
   "id": "21e648d3",
   "metadata": {},
   "outputs": [],
   "source": [
    "B = {3, 4, 5, 6, 7}"
   ]
  },
  {
   "cell_type": "code",
   "execution_count": null,
   "id": "fa9f2287",
   "metadata": {},
   "outputs": [],
   "source": [
    "C = set([1, 4, 5, 7, 9])"
   ]
  },
  {
   "cell_type": "markdown",
   "id": "6570baa0",
   "metadata": {},
   "source": [
    "## Listas vs conjuntos"
   ]
  },
  {
   "cell_type": "code",
   "execution_count": null,
   "id": "06d9a466",
   "metadata": {},
   "outputs": [],
   "source": [
    "lista = [1, 2, 3, 4, 5, 1, 2, 3, 4, 5]"
   ]
  },
  {
   "cell_type": "code",
   "execution_count": null,
   "id": "26ef18d1",
   "metadata": {},
   "outputs": [],
   "source": [
    "lista"
   ]
  },
  {
   "cell_type": "code",
   "execution_count": null,
   "id": "c8773a41",
   "metadata": {},
   "outputs": [],
   "source": [
    "conjunto = set(lista)"
   ]
  },
  {
   "cell_type": "code",
   "execution_count": null,
   "id": "23aa70fa",
   "metadata": {},
   "outputs": [],
   "source": [
    "conjunto"
   ]
  },
  {
   "cell_type": "markdown",
   "id": "3c4ace2d",
   "metadata": {},
   "source": [
    "## operaciones"
   ]
  },
  {
   "cell_type": "markdown",
   "id": "7ffe293a",
   "metadata": {},
   "source": [
    "Python proporciona operaciones y métodos para realizar operaciones básicas de conjuntos como unión, intersección, diferencia,\n",
    "y diferencia simétrica"
   ]
  },
  {
   "cell_type": "markdown",
   "id": "f2c08873",
   "metadata": {},
   "source": [
    "### Unión"
   ]
  },
  {
   "cell_type": "markdown",
   "id": "18ce114e",
   "metadata": {},
   "source": [
    "La operación se denomina unión de conjuntos, y da como resultado un nuevo conjunto formado por todos los elementos que pertenecen a ambos conjuntos."
   ]
  },
  {
   "cell_type": "markdown",
   "id": "e1d00401",
   "metadata": {},
   "source": [
    "Su formula es:"
   ]
  },
  {
   "cell_type": "markdown",
   "id": "495aa7ab",
   "metadata": {},
   "source": [
    "$$\n",
    "    C = A \\cup B = {X:X \\in A \\quad o \\quad x \\in B}\n",
    "$$"
   ]
  },
  {
   "cell_type": "code",
   "execution_count": 3,
   "id": "0501f840",
   "metadata": {},
   "outputs": [
    {
     "data": {
      "text/plain": [
       "{1, 2, 3, 4, 5, 6, 7}"
      ]
     },
     "execution_count": 3,
     "metadata": {},
     "output_type": "execute_result"
    }
   ],
   "source": [
    "A | B"
   ]
  },
  {
   "cell_type": "code",
   "execution_count": 6,
   "id": "b760a1b3",
   "metadata": {},
   "outputs": [
    {
     "data": {
      "text/plain": [
       "{1, 2, 3, 4, 5, 6, 7}"
      ]
     },
     "execution_count": 6,
     "metadata": {},
     "output_type": "execute_result"
    }
   ],
   "source": [
    "A.union(B)"
   ]
  },
  {
   "cell_type": "markdown",
   "id": "5cc550d6",
   "metadata": {},
   "source": [
    "### Insección"
   ]
  },
  {
   "cell_type": "markdown",
   "id": "02ab180b",
   "metadata": {},
   "source": [
    "Realizar la intersección de dos o más conjuntos, es definir un nuevo conjunto formado solamente por aquellos elementos que estén presentes en todos los conjuntos en cuestión. En otras palabras: sólo forman parte del nuevo conjunto, los elementos que tengan en común"
   ]
  },
  {
   "cell_type": "markdown",
   "id": "5414eb86",
   "metadata": {},
   "source": [
    "$$\n",
    "A \\cap B = \\{ x : x \\in A \\text{ y } x \\in B \\}\n",
    "$$"
   ]
  },
  {
   "cell_type": "code",
   "execution_count": null,
   "id": "af356e65",
   "metadata": {},
   "outputs": [],
   "source": [
    "A & B"
   ]
  },
  {
   "cell_type": "code",
   "execution_count": 13,
   "id": "3f0f9004",
   "metadata": {},
   "outputs": [
    {
     "data": {
      "text/plain": [
       "{3, 4, 5}"
      ]
     },
     "execution_count": 13,
     "metadata": {},
     "output_type": "execute_result"
    }
   ],
   "source": [
    "A.intersection(B)"
   ]
  }
 ],
 "metadata": {
  "kernelspec": {
   "display_name": "Python 3 (ipykernel)",
   "language": "python",
   "name": "python3"
  },
  "language_info": {
   "codemirror_mode": {
    "name": "ipython",
    "version": 3
   },
   "file_extension": ".py",
   "mimetype": "text/x-python",
   "name": "python",
   "nbconvert_exporter": "python",
   "pygments_lexer": "ipython3",
   "version": "3.10.9"
  }
 },
 "nbformat": 4,
 "nbformat_minor": 5
}
